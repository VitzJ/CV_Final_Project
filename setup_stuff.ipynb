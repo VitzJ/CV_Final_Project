{
 "cells": [
  {
   "cell_type": "code",
   "execution_count": 2,
   "id": "5e47167b",
   "metadata": {},
   "outputs": [],
   "source": [
    "import os\n",
    "from datasets import load_dataset\n",
    "from huggingface_hub import login\n",
    "\n",
    "HF_LOGIN_CODE = os.getenv(\"HF_LOGIN_CODE\")\n",
    "login(HF_LOGIN_CODE)\n",
    "\n",
    "dataset = load_dataset(\"aegean-ai/ai-lectures-spring-24\")"
   ]
  },
  {
   "cell_type": "code",
   "execution_count": 3,
   "id": "9b8c4057",
   "metadata": {},
   "outputs": [
    {
     "data": {
      "application/vnd.jupyter.widget-view+json": {
       "model_id": "9ab1fb4564954dc9957d300bc42f5bfc",
       "version_major": 2,
       "version_minor": 0
      },
      "text/plain": [
       "Saving the dataset (0/5 shards):   0%|          | 0/8 [00:00<?, ? examples/s]"
      ]
     },
     "metadata": {},
     "output_type": "display_data"
    }
   ],
   "source": [
    "# Persist to local folder (will create indexes, arrow files, etc.)\n",
    "dataset.save_to_disk(\"./raw_original_video_dataset\")"
   ]
  },
  {
   "cell_type": "code",
   "execution_count": null,
   "id": "329642ce",
   "metadata": {},
   "outputs": [],
   "source": [
    "import tempfile\n",
    "from moviepy import VideoFileClip\n",
    "import os"
   ]
  },
  {
   "cell_type": "code",
   "execution_count": null,
   "id": "d7215093",
   "metadata": {},
   "outputs": [],
   "source": [
    "# Function to extract captions and create video chunks for a single example\n",
    "def write_full_video_to_local_store(example):\n",
    "    # Access the literal MP4 file (binary data) from the example\n",
    "    mp4_file_data = example['mp4']  # This is the binary data of the MP4 file\n",
    "\n",
    "    # Save the binary MP4 data to a temporary file\n",
    "    with tempfile.NamedTemporaryFile(delete=False, suffix=\".mp4\") as temp_file:\n",
    "        temp_file.write(mp4_file_data)\n",
    "        temp_filename = temp_file.name  # Store the temporary file name\n",
    "\n",
    "    # Load the video using MoviePy\n",
    "    video = VideoFileClip(temp_filename)\n",
    "\n",
    "    # Create a directory for the video chunks based on video_id\n",
    "    video_dir = \"full_videos\"\n",
    "    os.makedirs(video_dir, exist_ok=True)\n",
    "\n",
    "    video_title_id = example['video_id']\n",
    "    output_filename = os.path.join(video_dir, f\"{video_title_id}_full_video.mp4\")\n",
    "\n",
    "    video.write_videofile(output_filename, codec=\"libx264\", audio_codec=\"aac\")\n",
    "\n",
    "    # Clean up the temporary file after processing\n",
    "    os.remove(temp_filename)"
   ]
  },
  {
   "cell_type": "code",
   "execution_count": null,
   "id": "34cdfee6",
   "metadata": {},
   "outputs": [],
   "source": [
    "dataset.map(write_full_video_to_local_store)"
   ]
  }
 ],
 "metadata": {
  "kernelspec": {
   "display_name": ".venv",
   "language": "python",
   "name": "python3"
  },
  "language_info": {
   "codemirror_mode": {
    "name": "ipython",
    "version": 3
   },
   "file_extension": ".py",
   "mimetype": "text/x-python",
   "name": "python",
   "nbconvert_exporter": "python",
   "pygments_lexer": "ipython3",
   "version": "3.12.3"
  }
 },
 "nbformat": 4,
 "nbformat_minor": 5
}
