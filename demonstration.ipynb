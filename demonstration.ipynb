{
 "cells": [
  {
   "cell_type": "markdown",
   "id": "c8f40f0f",
   "metadata": {},
   "source": [
    "# Load Dataset"
   ]
  },
  {
   "cell_type": "code",
   "execution_count": 5,
   "id": "6eb8dfc0",
   "metadata": {},
   "outputs": [],
   "source": [
    "from datasets import load_dataset"
   ]
  },
  {
   "cell_type": "code",
   "execution_count": 6,
   "id": "e000fc4f",
   "metadata": {},
   "outputs": [
    {
     "data": {
      "application/vnd.jupyter.widget-view+json": {
       "model_id": "46594a3766dc4da2b76dd1797521276c",
       "version_major": 2,
       "version_minor": 0
      },
      "text/plain": [
       "README.md:   0%|          | 0.00/1.76k [00:00<?, ?B/s]"
      ]
     },
     "metadata": {},
     "output_type": "display_data"
    },
    {
     "data": {
      "application/vnd.jupyter.widget-view+json": {
       "model_id": "ae1feddc02144b5c90f7d552d5e5daf2",
       "version_major": 2,
       "version_minor": 0
      },
      "text/plain": [
       "train-00000-of-00005.parquet:   0%|          | 0.00/182M [00:00<?, ?B/s]"
      ]
     },
     "metadata": {},
     "output_type": "display_data"
    },
    {
     "data": {
      "application/vnd.jupyter.widget-view+json": {
       "model_id": "bf1dc6ccaf1b45c3918b4274c7ca1bdf",
       "version_major": 2,
       "version_minor": 0
      },
      "text/plain": [
       "train-00001-of-00005.parquet:   0%|          | 0.00/472M [00:00<?, ?B/s]"
      ]
     },
     "metadata": {},
     "output_type": "display_data"
    },
    {
     "data": {
      "application/vnd.jupyter.widget-view+json": {
       "model_id": "324cceca2f564acbb5d681588db41fcf",
       "version_major": 2,
       "version_minor": 0
      },
      "text/plain": [
       "train-00002-of-00005.parquet:   0%|          | 0.00/453M [00:00<?, ?B/s]"
      ]
     },
     "metadata": {},
     "output_type": "display_data"
    },
    {
     "data": {
      "application/vnd.jupyter.widget-view+json": {
       "model_id": "809b72346d8544ea977de0f54c18f2f0",
       "version_major": 2,
       "version_minor": 0
      },
      "text/plain": [
       "train-00003-of-00005.parquet:   0%|          | 0.00/631M [00:00<?, ?B/s]"
      ]
     },
     "metadata": {},
     "output_type": "display_data"
    },
    {
     "data": {
      "application/vnd.jupyter.widget-view+json": {
       "model_id": "0aaf067144bd4f2a93af7f41eed985f5",
       "version_major": 2,
       "version_minor": 0
      },
      "text/plain": [
       "train-00004-of-00005.parquet:   0%|          | 0.00/358M [00:00<?, ?B/s]"
      ]
     },
     "metadata": {},
     "output_type": "display_data"
    },
    {
     "data": {
      "application/vnd.jupyter.widget-view+json": {
       "model_id": "ff439bdf425c49e481a31c7f419db7d0",
       "version_major": 2,
       "version_minor": 0
      },
      "text/plain": [
       "Generating train split:   0%|          | 0/8 [00:00<?, ? examples/s]"
      ]
     },
     "metadata": {},
     "output_type": "display_data"
    }
   ],
   "source": [
    "video_dataset = load_dataset(\"JohnVitz/CV_Final_Project_Video_With_Chunked_Captions_Bert_Topic_1\")"
   ]
  },
  {
   "cell_type": "code",
   "execution_count": 18,
   "id": "d95d84b4",
   "metadata": {},
   "outputs": [],
   "source": [
    "video_dataset = video_dataset['train']"
   ]
  },
  {
   "cell_type": "markdown",
   "id": "9dba0473",
   "metadata": {},
   "source": [
    "# Initialize Embedding Model"
   ]
  },
  {
   "cell_type": "code",
   "execution_count": 7,
   "id": "016151a5",
   "metadata": {},
   "outputs": [
    {
     "name": "stdout",
     "output_type": "stream",
     "text": [
      "Using CPU\n"
     ]
    }
   ],
   "source": [
    "import torch\n",
    "from sentence_transformers import SentenceTransformer\n",
    "\n",
    "# Select device ('cpu' or 'cuda' if available)\n",
    "device = \"cpu\"  # Set to \"cuda\" if you want to use GPU (change to \"cuda\" to force GPU usage)\n",
    "# Check if CUDA is available and if the user wants to use it\n",
    "if torch.cuda.is_available() and device == \"cuda\":\n",
    "    device = \"cuda\"\n",
    "    print(\"Using GPU (CUDA)\")\n",
    "else:\n",
    "    print(\"Using CPU\")\n",
    "\n",
    "# Load pre-trained Sentence Transformer model\n",
    "sentence_model = SentenceTransformer('all-mpnet-base-v2', device=device)"
   ]
  },
  {
   "cell_type": "markdown",
   "id": "b1d13fd3",
   "metadata": {},
   "source": [
    "# Initialize Qdrant Store"
   ]
  },
  {
   "cell_type": "code",
   "execution_count": 8,
   "id": "6f2683ed",
   "metadata": {},
   "outputs": [],
   "source": [
    "# Qdrant Vector Database\n",
    "from qdrant_client import QdrantClient\n",
    "from qdrant_client.models import Distance, VectorParams"
   ]
  },
  {
   "cell_type": "code",
   "execution_count": 9,
   "id": "6cf6f0f5",
   "metadata": {},
   "outputs": [],
   "source": [
    "qdrant_client = QdrantClient(location=\":memory:\")"
   ]
  },
  {
   "cell_type": "code",
   "execution_count": 10,
   "id": "5210065d",
   "metadata": {},
   "outputs": [],
   "source": [
    "MY_SHORT_COLLECTION = \"short_search_collection\"\n",
    "MY_LONG_COLLECTION = \"long_search_collection\"\n",
    "\n",
    "embedding_size = sentence_model.get_sentence_embedding_dimension()\n",
    "\n",
    "first_collection = qdrant_client.create_collection(\n",
    "    collection_name=MY_SHORT_COLLECTION,\n",
    "    vectors_config=VectorParams(size=embedding_size, # Size of Snowflake Embedding Dimensions\n",
    "                                distance=Distance.COSINE), # Cosine similarity for vector search\n",
    ")\n",
    "\n",
    "second_collection = qdrant_client.create_collection(\n",
    "    collection_name=MY_LONG_COLLECTION,\n",
    "    vectors_config=VectorParams(size=embedding_size, # Size of Snowflake Embedding Dimensions\n",
    "                                distance=Distance.COSINE), # Cosine similarity for vector search\n",
    ")"
   ]
  },
  {
   "cell_type": "code",
   "execution_count": 11,
   "id": "0cf08e80",
   "metadata": {},
   "outputs": [
    {
     "data": {
      "text/plain": [
       "CollectionInfo(status=<CollectionStatus.GREEN: 'green'>, optimizer_status=<OptimizersStatusOneOf.OK: 'ok'>, vectors_count=None, indexed_vectors_count=0, points_count=0, segments_count=1, config=CollectionConfig(params=CollectionParams(vectors=VectorParams(size=768, distance=<Distance.COSINE: 'Cosine'>, hnsw_config=None, quantization_config=None, on_disk=None, datatype=None, multivector_config=None), shard_number=None, sharding_method=None, replication_factor=None, write_consistency_factor=None, read_fan_out_factor=None, on_disk_payload=None, sparse_vectors=None), hnsw_config=HnswConfig(m=16, ef_construct=100, full_scan_threshold=10000, max_indexing_threads=0, on_disk=None, payload_m=None), optimizer_config=OptimizersConfig(deleted_threshold=0.2, vacuum_min_vector_number=1000, default_segment_number=0, max_segment_size=None, memmap_threshold=None, indexing_threshold=20000, flush_interval_sec=5, max_optimization_threads=1), wal_config=WalConfig(wal_capacity_mb=32, wal_segments_ahead=0), quantization_config=None, strict_mode_config=None), payload_schema={})"
      ]
     },
     "execution_count": 11,
     "metadata": {},
     "output_type": "execute_result"
    }
   ],
   "source": [
    "qdrant_client.get_collection(collection_name=MY_SHORT_COLLECTION)"
   ]
  },
  {
   "cell_type": "code",
   "execution_count": 12,
   "id": "057f75f6",
   "metadata": {},
   "outputs": [
    {
     "data": {
      "text/plain": [
       "CollectionInfo(status=<CollectionStatus.GREEN: 'green'>, optimizer_status=<OptimizersStatusOneOf.OK: 'ok'>, vectors_count=None, indexed_vectors_count=0, points_count=0, segments_count=1, config=CollectionConfig(params=CollectionParams(vectors=VectorParams(size=768, distance=<Distance.COSINE: 'Cosine'>, hnsw_config=None, quantization_config=None, on_disk=None, datatype=None, multivector_config=None), shard_number=None, sharding_method=None, replication_factor=None, write_consistency_factor=None, read_fan_out_factor=None, on_disk_payload=None, sparse_vectors=None), hnsw_config=HnswConfig(m=16, ef_construct=100, full_scan_threshold=10000, max_indexing_threads=0, on_disk=None, payload_m=None), optimizer_config=OptimizersConfig(deleted_threshold=0.2, vacuum_min_vector_number=1000, default_segment_number=0, max_segment_size=None, memmap_threshold=None, indexing_threshold=20000, flush_interval_sec=5, max_optimization_threads=1), wal_config=WalConfig(wal_capacity_mb=32, wal_segments_ahead=0), quantization_config=None, strict_mode_config=None), payload_schema={})"
      ]
     },
     "execution_count": 12,
     "metadata": {},
     "output_type": "execute_result"
    }
   ],
   "source": [
    "qdrant_client.get_collection(collection_name=MY_LONG_COLLECTION)"
   ]
  },
  {
   "cell_type": "markdown",
   "id": "a4cb1ced",
   "metadata": {},
   "source": [
    "# Upload the Segmentation Subsets"
   ]
  },
  {
   "cell_type": "code",
   "execution_count": 19,
   "id": "95f7c9b8",
   "metadata": {},
   "outputs": [],
   "source": [
    "def load_qdrant_store_subset_short():\n",
    "\n",
    "    # assuming `dataset` has columns: video_id, segments, segment_embeddings\n",
    "    records = []\n",
    "\n",
    "    for example in video_dataset:\n",
    "        vid       = example[\"video_id\"]\n",
    "        segments  = example[\"segments\"]            # List[{\"topic\",\"start\",\"end\",\"text\",\"Name\"}]\n",
    "        embeddings = example[\"segment_embeddings\"] # List[List[float]]\n",
    "\n",
    "        # one record per segment\n",
    "        for idx, (seg, emb) in enumerate(zip(segments, embeddings)):\n",
    "            rec_id = f\"{vid}_{idx}\"              # concat video_id + segment index\n",
    "            payload = {\n",
    "                \"video_id\": vid,\n",
    "                \"segment_index\": idx,\n",
    "                \"topic\": seg[\"topic\"],\n",
    "                \"start\": seg[\"start\"],\n",
    "                \"end\": seg[\"end\"],\n",
    "                \"text\": seg[\"text\"],\n",
    "                \"Name\": seg[\"Name\"],\n",
    "            }\n",
    "            records.append({\n",
    "                #\"id\": rec_id,\n",
    "                \"vector\": emb,\n",
    "                \"payload\": payload\n",
    "            })\n",
    "\n",
    "    # Insert points into the collection\n",
    "    from qdrant_client.models import Batch\n",
    "\n",
    "    # Create a Batch object\n",
    "\n",
    "    ids      = list(range(len(records)))\n",
    "    vectors  = [r[\"vector\"]  for r in records]\n",
    "    payloads = [r[\"payload\"] for r in records]\n",
    "\n",
    "    my_batch = Batch(ids=ids, vectors=vectors, payloads=payloads)\n",
    "\n",
    "    qdrant_client.upsert(\n",
    "        collection_name=MY_SHORT_COLLECTION,\n",
    "        points=my_batch\n",
    ")"
   ]
  },
  {
   "cell_type": "code",
   "execution_count": 20,
   "id": "a21270a5",
   "metadata": {},
   "outputs": [],
   "source": [
    "def load_qdrant_store_subset_long():\n",
    "\n",
    "    # assuming `dataset` has columns: video_id, segments, segment_embeddings\n",
    "    records = []\n",
    "\n",
    "    for example in video_dataset:\n",
    "        vid       = example[\"video_id\"]\n",
    "        segments  = example[\"segments2\"]            # List[{\"topic\",\"start\",\"end\",\"text\",\"Name\"}]\n",
    "        embeddings = example[\"segment_embeddings2\"] # List[List[float]]\n",
    "\n",
    "        # one record per segment\n",
    "        for idx, (seg, emb) in enumerate(zip(segments, embeddings)):\n",
    "            rec_id = f\"{vid}_{idx}\"              # concat video_id + segment index\n",
    "            payload = {\n",
    "                \"video_id\": vid,\n",
    "                \"segment_index\": idx,\n",
    "                \"topic\": seg[\"topic\"],\n",
    "                \"start\": seg[\"start\"],\n",
    "                \"end\": seg[\"end\"],\n",
    "                \"text\": seg[\"text\"],\n",
    "                \"Name\": seg[\"Name\"],\n",
    "            }\n",
    "            records.append({\n",
    "                #\"id\": rec_id,\n",
    "                \"vector\": emb,\n",
    "                \"payload\": payload\n",
    "            })\n",
    "\n",
    "    # Insert points into the collection\n",
    "    from qdrant_client.models import Batch\n",
    "\n",
    "    # Create a Batch object\n",
    "\n",
    "    ids      = list(range(len(records)))\n",
    "    vectors  = [r[\"vector\"]  for r in records]\n",
    "    payloads = [r[\"payload\"] for r in records]\n",
    "\n",
    "    my_batch = Batch(ids=ids, vectors=vectors, payloads=payloads)\n",
    "\n",
    "    qdrant_client.upsert(\n",
    "        collection_name=MY_LONG_COLLECTION,\n",
    "        points=my_batch\n",
    ")"
   ]
  },
  {
   "cell_type": "code",
   "execution_count": 21,
   "id": "28fcbdf9",
   "metadata": {},
   "outputs": [],
   "source": [
    "load_qdrant_store_subset_short()"
   ]
  },
  {
   "cell_type": "code",
   "execution_count": 22,
   "id": "a53442e7",
   "metadata": {},
   "outputs": [],
   "source": [
    "load_qdrant_store_subset_long()"
   ]
  },
  {
   "cell_type": "code",
   "execution_count": 29,
   "id": "5c483d4f",
   "metadata": {},
   "outputs": [],
   "source": [
    "def get_query_embedding(text):\n",
    "    return sentence_model.encode(text)  # Encode the question (this returns a normalized embedding)\n",
    "\n",
    "# Gets closest similarity score chunks\n",
    "def get_context_chunks(norm_query_embedding, num_chunks=1, collection='short'):\n",
    "\n",
    "    if collection == 'long':\n",
    "\n",
    "        context_chunks = qdrant_client.query_points(\n",
    "            collection_name=MY_SHORT_COLLECTION,\n",
    "            query=norm_query_embedding,\n",
    "            limit=num_chunks\n",
    "        ).points\n",
    "    else:\n",
    "        context_chunks = qdrant_client.query_points(\n",
    "            collection_name=MY_LONG_COLLECTION,\n",
    "            query=norm_query_embedding,\n",
    "            limit=num_chunks\n",
    "        ).points\n",
    "\n",
    "\n",
    "    #print(context_chunks)\n",
    "\n",
    "    return context_chunks"
   ]
  },
  {
   "cell_type": "code",
   "execution_count": 30,
   "id": "1509fb74",
   "metadata": {},
   "outputs": [],
   "source": [
    "import os\n",
    "import gradio as gr\n",
    "import tempfile\n",
    "from datetime import datetime\n",
    "from moviepy import VideoFileClip\n",
    "\n",
    "def to_seconds(ts: str) -> float:\n",
    "    \"\"\"Convert 'HH:MM:SS.sss' to seconds.\"\"\"\n",
    "    dt = datetime.strptime(ts, \"%H:%M:%S.%f\")\n",
    "    return dt.hour*3600 + dt.minute*60 + dt.second + dt.microsecond/1e6\n",
    "\n",
    "def get_payload_based_on_question(question, collection='short'):\n",
    "    \"\"\"\n",
    "    Returns:\n",
    "      text (str),                — the retrieved caption text  \n",
    "      video_file_path (str),     — local path to the full MP4  \n",
    "      start_ts (str),            — segment start timestamp  \n",
    "      end_ts (str)               — segment end timestamp  \n",
    "    \"\"\"\n",
    "    # 1) Embed & get top hit\n",
    "    question_embedding = get_query_embedding(question)\n",
    "    hit = get_context_chunks(question_embedding, collection='short')[0]\n",
    "    payload = hit.payload\n",
    "    print(\"DEBUG payload:\", payload)  # you can remove this after verifying\n",
    "\n",
    "    # 2) Extract fields\n",
    "    text     = payload['text']\n",
    "    video_id = payload['video_id']\n",
    "    start_ts = payload['start']\n",
    "    end_ts   = payload['end']\n",
    "\n",
    "    # 3) Rebuild the path to your full video file\n",
    "    video_file_path = video_id\n",
    "\n",
    "    return text, video_file_path, start_ts, end_ts\n",
    "\n",
    "# Serve video + text with dynamic subclip extraction\n",
    "def serve_video_and_text(question, collection, folderpath='full_videos'):#, collection='short'):\n",
    "\n",
    "    # 1) Pull the best‐matching segment payload\n",
    "    text, video_path, start_ts, end_ts = get_payload_based_on_question(question, collection=collection)\n",
    "\n",
    "    video_path = video_path + '_full_video.mp4'\n",
    "\n",
    "    # print(\"Retrieved text:\")\n",
    "    # print(text, \"\\n\")\n",
    "    # print(f\"Video file: {video_path}\")\n",
    "    # print(f\"Time window: {start_ts} → {end_ts}\\n\")\n",
    "\n",
    "    # # Extract the subclipped\n",
    "    # print(\"Extracting subclip with `subclipped` function…\")\n",
    "\n",
    "    final_path = os.path.join(folderpath, video_path)\n",
    "    print(final_path)\n",
    "\n",
    "    segment = VideoFileClip(final_path).subclipped(\n",
    "        to_seconds(start_ts), \n",
    "        to_seconds(end_ts)\n",
    "    )\n",
    "\n",
    "    # Save to a temp file\n",
    "    tmp = tempfile.NamedTemporaryFile(delete=False, suffix=\".mp4\")\n",
    "    segment.write_videofile(tmp.name, audio_codec=\"aac\", logger=None)\n",
    "    segment.close()\n",
    "    \n",
    "    return tmp.name, text\n",
    "\n",
    "# Gradio app\n",
    "def create_video_interface():\n",
    "    with gr.Blocks() as demo:\n",
    "        gr.Markdown(\"### Video and Text Display Based on Question\")\n",
    "\n",
    "        # Create a textbox for the user's question\n",
    "        question_input = gr.Textbox(label=\"Ask a Question\", placeholder=\"Enter a question related to the videos...\")\n",
    "        \n",
    "        # Define the video and text outputs\n",
    "        video_output = gr.Video()\n",
    "        text_output = gr.Markdown()\n",
    "        \n",
    "        # Button to submit the question and show the relevant video and text\n",
    "        gr.Button(\"Show\").click(\n",
    "            fn=serve_video_and_text,\n",
    "            inputs=[question_input],\n",
    "            outputs=[video_output, text_output]\n",
    "        )\n",
    "    demo.launch(share=False)"
   ]
  },
  {
   "cell_type": "code",
   "execution_count": null,
   "id": "f69de737",
   "metadata": {},
   "outputs": [
    {
     "name": "stdout",
     "output_type": "stream",
     "text": [
      "* Running on local URL:  http://127.0.0.1:7860\n",
      "* To create a public link, set `share=True` in `launch()`.\n"
     ]
    },
    {
     "data": {
      "text/html": [
       "<div><iframe src=\"http://127.0.0.1:7860/\" width=\"100%\" height=\"500\" allow=\"autoplay; camera; microphone; clipboard-read; clipboard-write;\" frameborder=\"0\" allowfullscreen></iframe></div>"
      ],
      "text/plain": [
       "<IPython.core.display.HTML object>"
      ]
     },
     "metadata": {},
     "output_type": "display_data"
    },
    {
     "name": "stdout",
     "output_type": "stream",
     "text": [
      "DEBUG payload: {'video_id': 'WXoOohWU28Y', 'segment_index': 32, 'topic': 4, 'start': '00:11:37.110', 'end': '00:12:20.990', 'text': 'write over here, if I kind of try to squeeze it: so this is our squeeze it: so this is our image that we have seen earlier, with', 'Name': '4_image_kind image_exactly uh_positioned'}\n",
      "full_videos/WXoOohWU28Y_full_video.mp4\n",
      "{'video_found': True, 'audio_found': True, 'metadata': {'major_brand': 'isom', 'minor_version': '512', 'compatible_brands': 'isomiso2avc1mp41', 'encoder': 'Lavf61.1.100'}, 'inputs': [{'streams': [{'input_number': 0, 'stream_number': 0, 'stream_type': 'video', 'language': None, 'default': True, 'size': [1920, 1080], 'bitrate': 1103, 'fps': 30.0, 'codec_name': 'h264', 'profile': '(High)', 'metadata': {'Metadata': '', 'handler_name': 'VideoHandler', 'vendor_id': '[0][0][0][0]', 'encoder': 'Lavc61.3.100 libx264'}}, {'input_number': 0, 'stream_number': 1, 'stream_type': 'audio', 'language': None, 'default': True, 'fps': 44100, 'bitrate': 128, 'metadata': {'Metadata': '', 'handler_name': 'SoundHandler', 'vendor_id': '[0][0][0][0]'}}], 'input_number': 0}], 'duration': 908.78, 'bitrate': 1240, 'start': 0.0, 'default_video_input_number': 0, 'default_video_stream_number': 0, 'video_codec_name': 'h264', 'video_profile': '(High)', 'video_size': [1920, 1080], 'video_bitrate': 1103, 'video_fps': 30.0, 'default_audio_input_number': 0, 'default_audio_stream_number': 1, 'audio_fps': 44100, 'audio_bitrate': 128, 'video_duration': 908.78, 'video_n_frames': 27263}\n",
      "/home/marethu/CS698_CV/CV_Final_Project/.venv/lib/python3.12/site-packages/imageio_ffmpeg/binaries/ffmpeg-linux-x86_64-v7.0.2 -i full_videos/WXoOohWU28Y_full_video.mp4 -loglevel error -f image2pipe -vf scale=1920:1080 -sws_flags bicubic -pix_fmt rgb24 -vcodec rawvideo -\n",
      "{'video_found': True, 'audio_found': True, 'metadata': {'major_brand': 'isom', 'minor_version': '512', 'compatible_brands': 'isomiso2avc1mp41', 'encoder': 'Lavf61.1.100'}, 'inputs': [{'streams': [{'input_number': 0, 'stream_number': 0, 'stream_type': 'video', 'language': None, 'default': True, 'size': [1920, 1080], 'bitrate': 1103, 'fps': 30.0, 'codec_name': 'h264', 'profile': '(High)', 'metadata': {'Metadata': '', 'handler_name': 'VideoHandler', 'vendor_id': '[0][0][0][0]', 'encoder': 'Lavc61.3.100 libx264'}}, {'input_number': 0, 'stream_number': 1, 'stream_type': 'audio', 'language': None, 'default': True, 'fps': 44100, 'bitrate': 128, 'metadata': {'Metadata': '', 'handler_name': 'SoundHandler', 'vendor_id': '[0][0][0][0]'}}], 'input_number': 0}], 'duration': 908.78, 'bitrate': 1240, 'start': 0.0, 'default_video_input_number': 0, 'default_video_stream_number': 0, 'video_codec_name': 'h264', 'video_profile': '(High)', 'video_size': [1920, 1080], 'video_bitrate': 1103, 'video_fps': 30.0, 'default_audio_input_number': 0, 'default_audio_stream_number': 1, 'audio_fps': 44100, 'audio_bitrate': 128, 'video_duration': 908.78, 'video_n_frames': 27263}\n",
      "/home/marethu/CS698_CV/CV_Final_Project/.venv/lib/python3.12/site-packages/imageio_ffmpeg/binaries/ffmpeg-linux-x86_64-v7.0.2 -ss 696.110000 -i full_videos/WXoOohWU28Y_full_video.mp4 -ss 1.000000 -loglevel error -f image2pipe -vf scale=1920:1080 -sws_flags bicubic -pix_fmt rgb24 -vcodec rawvideo -\n"
     ]
    }
   ],
   "source": [
    "create_video_interface()"
   ]
  },
  {
   "cell_type": "code",
   "execution_count": 32,
   "id": "8ce966ad",
   "metadata": {},
   "outputs": [
    {
     "name": "stdout",
     "output_type": "stream",
     "text": [
      "* Running on local URL:  http://127.0.0.1:7864\n",
      "* Running on public URL: https://56a319d613c6426f4a.gradio.live\n",
      "\n",
      "This share link expires in 1 week. For free permanent hosting and GPU upgrades, run `gradio deploy` from the terminal in the working directory to deploy to Hugging Face Spaces (https://huggingface.co/spaces)\n"
     ]
    },
    {
     "data": {
      "text/html": [
       "<div><iframe src=\"https://56a319d613c6426f4a.gradio.live\" width=\"100%\" height=\"500\" allow=\"autoplay; camera; microphone; clipboard-read; clipboard-write;\" frameborder=\"0\" allowfullscreen></iframe></div>"
      ],
      "text/plain": [
       "<IPython.core.display.HTML object>"
      ]
     },
     "metadata": {},
     "output_type": "display_data"
    }
   ],
   "source": [
    "def create_video_interface():\n",
    "    with gr.Blocks() as demo:\n",
    "        gr.Markdown(\"### Video and Text Display Based on Question\")\n",
    "\n",
    "        question_input   = gr.Textbox(label=\"Ask a Question\",\n",
    "                                      placeholder=\"Enter a question related to the videos…\")\n",
    "        collection_input = gr.Radio(\n",
    "            choices=['short', 'long'],\n",
    "            value='short',\n",
    "            label=\"Would you perfer your retrieved videos to be short, or long?\"\n",
    "        )\n",
    "\n",
    "        video_output = gr.Video()\n",
    "        text_output  = gr.Markdown()\n",
    "\n",
    "        show_btn = gr.Button(\"Show\")\n",
    "        show_btn.click(\n",
    "            fn=serve_video_and_text,\n",
    "            inputs=[question_input, collection_input],\n",
    "            outputs=[video_output, text_output]\n",
    "        )\n",
    "\n",
    "    demo.launch(share=True)\n",
    "\n",
    "create_video_interface()"
   ]
  },
  {
   "cell_type": "code",
   "execution_count": null,
   "id": "474f22d7",
   "metadata": {},
   "outputs": [],
   "source": []
  },
  {
   "cell_type": "code",
   "execution_count": null,
   "id": "fb8078a7",
   "metadata": {},
   "outputs": [],
   "source": []
  },
  {
   "cell_type": "code",
   "execution_count": null,
   "id": "855d538e",
   "metadata": {},
   "outputs": [],
   "source": []
  },
  {
   "cell_type": "code",
   "execution_count": null,
   "id": "1c8bf178",
   "metadata": {},
   "outputs": [],
   "source": []
  },
  {
   "cell_type": "code",
   "execution_count": null,
   "id": "abfc9cdd",
   "metadata": {},
   "outputs": [],
   "source": []
  },
  {
   "cell_type": "code",
   "execution_count": null,
   "id": "023b27b1",
   "metadata": {},
   "outputs": [],
   "source": []
  },
  {
   "cell_type": "code",
   "execution_count": null,
   "id": "59b8f9ee",
   "metadata": {},
   "outputs": [],
   "source": []
  },
  {
   "cell_type": "code",
   "execution_count": null,
   "id": "ac71cbd7",
   "metadata": {},
   "outputs": [],
   "source": []
  },
  {
   "cell_type": "code",
   "execution_count": null,
   "id": "06762c87",
   "metadata": {},
   "outputs": [],
   "source": []
  },
  {
   "cell_type": "code",
   "execution_count": null,
   "id": "82629a32",
   "metadata": {},
   "outputs": [],
   "source": []
  },
  {
   "cell_type": "code",
   "execution_count": null,
   "id": "7d275463",
   "metadata": {},
   "outputs": [],
   "source": []
  },
  {
   "cell_type": "code",
   "execution_count": null,
   "id": "7c0f1cf5",
   "metadata": {},
   "outputs": [],
   "source": []
  },
  {
   "cell_type": "code",
   "execution_count": null,
   "id": "3e128294",
   "metadata": {},
   "outputs": [],
   "source": []
  },
  {
   "cell_type": "code",
   "execution_count": null,
   "id": "682b4acb",
   "metadata": {},
   "outputs": [],
   "source": []
  },
  {
   "cell_type": "code",
   "execution_count": null,
   "id": "1b3c2133",
   "metadata": {},
   "outputs": [],
   "source": []
  }
 ],
 "metadata": {
  "kernelspec": {
   "display_name": ".venv",
   "language": "python",
   "name": "python3"
  },
  "language_info": {
   "codemirror_mode": {
    "name": "ipython",
    "version": 3
   },
   "file_extension": ".py",
   "mimetype": "text/x-python",
   "name": "python",
   "nbconvert_exporter": "python",
   "pygments_lexer": "ipython3",
   "version": "3.12.3"
  }
 },
 "nbformat": 4,
 "nbformat_minor": 5
}
